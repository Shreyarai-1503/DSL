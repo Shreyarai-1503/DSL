{
 "cells": [
  {
   "cell_type": "code",
   "execution_count": null,
   "id": "7d792c9d",
   "metadata": {},
   "outputs": [],
   "source": [
    "import pandas as pd\n",
    "import numpy as np\n",
    "import matplotlib.pyplot as plt\n",
    "import seaborn as sns"
   ]
  },
  {
   "cell_type": "code",
   "execution_count": null,
   "id": "4d9cbb82",
   "metadata": {},
   "outputs": [],
   "source": [
    "np.random.seed(42)\n",
    "\n",
    "data = {\n",
    "    'StudentID': range(1, 101),\n",
    "    'Math_Score': np.random.randint(50, 100, size=100),\n",
    "    'English_Score': np.random.randint(40, 95, size=100),\n",
    "    'Science_Score': np.random.randint(55, 98, size=100),\n",
    "    'Attendance': np.random.uniform(70, 100, size=100),\n",
    "    'Study_Hours': np.random.randint(1, 6, size=100),\n",
    "}\n",
    "\n",
    "df = pd.DataFrame(data)\n",
    "df"
   ]
  },
  {
   "cell_type": "code",
   "execution_count": null,
   "id": "0cbe1a27",
   "metadata": {},
   "outputs": [],
   "source": [
    "#Add missing values to the dataset\n",
    "\n",
    "df.loc[5:10, 'Math_Score'] = np.nan\n",
    "df.loc[15:25, 'English_Score'] = np.nan\n",
    "df.loc[25:30, 'Science_Score'] = np.nan\n",
    "df.loc[35:45, 'Attendance'] = np.nan\n",
    "\n",
    "df.head(10)"
   ]
  },
  {
   "cell_type": "code",
   "execution_count": null,
   "id": "6e11a533",
   "metadata": {},
   "outputs": [],
   "source": [
    "df.isnull().sum()"
   ]
  },
  {
   "cell_type": "code",
   "execution_count": null,
   "id": "198d1a6b",
   "metadata": {},
   "outputs": [],
   "source": [
    "df.fillna(df.mean(), inplace=True)\n",
    "df.isnull().sum()"
   ]
  },
  {
   "cell_type": "code",
   "execution_count": null,
   "id": "51de577f",
   "metadata": {},
   "outputs": [],
   "source": [
    "#Adding Outliers\n",
    "df.loc[0, 'Math_Score'] = 2\n",
    "df.loc[94, 'Math_Score'] = 20\n",
    "df.loc[6, 'English_Score'] = 5\n",
    "df.loc[20, 'English_Score'] = 10\n",
    "df.loc[26, 'Science_Score'] = 10\n",
    "df.loc[3, 'Attendance'] = 30\n",
    "df.loc[20, 'Attendance'] = 5"
   ]
  },
  {
   "cell_type": "code",
   "execution_count": null,
   "id": "b10d417a",
   "metadata": {},
   "outputs": [],
   "source": [
    "num_cols = df.iloc[:, 1:5].select_dtypes(include= ['int64', 'float64']).columns"
   ]
  },
  {
   "cell_type": "code",
   "execution_count": null,
   "id": "a09dfb2d",
   "metadata": {},
   "outputs": [],
   "source": [
    "sns.boxplot(data=df[num_cols])\n",
    "plt.title(\"Before Handling Outliers\")\n",
    "plt.show()"
   ]
  },
  {
   "cell_type": "code",
   "execution_count": null,
   "id": "91e2abc2",
   "metadata": {},
   "outputs": [],
   "source": [
    "z_scores = (df[num_cols] - df[num_cols].mean()) / df[num_cols].std()\n",
    "outliers = (z_scores.abs() > 3)\n",
    "\n",
    "df[outliers] = np.nan\n",
    "\n",
    "df.fillna(df.mean(), inplace=True)"
   ]
  },
  {
   "cell_type": "code",
   "execution_count": null,
   "id": "9b92b004",
   "metadata": {},
   "outputs": [],
   "source": [
    "sns.boxplot(data=df[num_cols])\n",
    "plt.title(\"After Handling Outliers\")\n",
    "plt.show()"
   ]
  },
  {
   "cell_type": "markdown",
   "id": "e5ebd950",
   "metadata": {},
   "source": [
    "Data Transformation:\n",
    "The variable Study_Hours showed a right-skewed distribution. To address this, a logarithmic transformation (Log_Study_Hours = log(Study_Hours)) was applied. This transformation reduces skewness and brings the distribution closer to normal, which is beneficial for statistical analysis and modeling tasks that assume normality."
   ]
  },
  {
   "cell_type": "code",
   "execution_count": null,
   "id": "dfce6ff9",
   "metadata": {},
   "outputs": [],
   "source": [
    "df['Log_Study_Hours'] = np.log(df['Study_Hours'])\n",
    "df"
   ]
  },
  {
   "cell_type": "code",
   "execution_count": null,
   "id": "db2a1d7e",
   "metadata": {},
   "outputs": [],
   "source": [
    "plt.figure(figsize=(10, 6))\n",
    "\n",
    "plt.hist(df['Log_Study_Hours'], bins=10, edgecolor='black')\n",
    "plt.title('Distribution of Log_Study_Hours')\n",
    "plt.xlabel('Log_Study_Hours')\n",
    "plt.ylabel('Frequency')"
   ]
  },
  {
   "cell_type": "code",
   "execution_count": null,
   "id": "e880b977",
   "metadata": {},
   "outputs": [],
   "source": [
    "plt.figure(figsize=(10, 6))\n",
    "\n",
    "plt.hist(df['Study_Hours'], bins=10, edgecolor='black')\n",
    "plt.title('Distribution of Study_Hours')\n",
    "plt.xlabel('Study_Hours')\n",
    "plt.ylabel('Frequency')"
   ]
  }
 ],
 "metadata": {
  "kernelspec": {
   "display_name": "Python 3",
   "language": "python",
   "name": "python3"
  },
  "language_info": {
   "codemirror_mode": {
    "name": "ipython",
    "version": 3
   },
   "file_extension": ".py",
   "mimetype": "text/x-python",
   "name": "python",
   "nbconvert_exporter": "python",
   "pygments_lexer": "ipython3",
   "version": "3.13.1"
  }
 },
 "nbformat": 4,
 "nbformat_minor": 5
}
