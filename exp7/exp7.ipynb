{
 "cells": [
  {
   "cell_type": "markdown",
   "id": "fdaa811e",
   "metadata": {},
   "source": [
    "Exp7.  Text Analytics \n",
    "1. Extract Sample document and apply following document preprocessing methods: Tokenization, POS Tagging, stop words removal, Stemming and Lemmatization. \n",
    "2. Create representation of document by calculating Term Frequency and Inverse Document Frequency. "
   ]
  },
  {
   "cell_type": "code",
   "execution_count": null,
   "id": "6431b8cb",
   "metadata": {},
   "outputs": [],
   "source": [
    "import nltk\n",
    "import os\n",
    "\n",
    "nltk.data.path.append(os.path.abspath('./nltk_data'))\n",
    "\n",
    "nltk.download('punkt_tab', download_dir='./nltk_data')\n",
    "nltk.download('stopwords', download_dir='./nltk_data') \n",
    "nltk.download('averaged_perceptron_tagger_eng', download_dir='./nltk_data')"
   ]
  },
  {
   "cell_type": "code",
   "execution_count": null,
   "id": "e8e4dde3",
   "metadata": {},
   "outputs": [],
   "source": [
    "text = \"It is a truth universally acknowledged, that a single man in possession of a good fortune,  must be in want of a wife.\" \n",
    "text = text.lower() \n",
    "print(text) "
   ]
  },
  {
   "cell_type": "code",
   "execution_count": null,
   "id": "172250e0",
   "metadata": {},
   "outputs": [],
   "source": [
    "import string \n",
    "print(string.punctuation)"
   ]
  },
  {
   "cell_type": "code",
   "execution_count": null,
   "id": "abc9c78a",
   "metadata": {},
   "outputs": [],
   "source": [
    "text_p = \"\".join([char for char in text if char not in string.punctuation])\n",
    "print(text_p)"
   ]
  },
  {
   "cell_type": "code",
   "execution_count": null,
   "id": "79bf42f4",
   "metadata": {},
   "outputs": [],
   "source": [
    "from nltk import word_tokenize, sent_tokenize\n",
    "\n",
    "# Tokenize\n",
    "words = word_tokenize(text_p) \n",
    "sent = sent_tokenize(text_p) \n",
    "print(words) \n",
    "print(sent)"
   ]
  },
  {
   "cell_type": "code",
   "execution_count": null,
   "id": "132a2774",
   "metadata": {},
   "outputs": [],
   "source": [
    "from nltk.corpus import stopwords \n",
    "stop_words = stopwords.words('english') \n",
    "print(stop_words)"
   ]
  },
  {
   "cell_type": "code",
   "execution_count": null,
   "id": "49835763",
   "metadata": {},
   "outputs": [],
   "source": [
    "filtered_words = [word for word in words if word not in stop_words] \n",
    "print(filtered_words)"
   ]
  },
  {
   "cell_type": "code",
   "execution_count": null,
   "id": "75c2ae25",
   "metadata": {},
   "outputs": [],
   "source": [
    "#Reduce words to their root form using stemming.\n",
    "from nltk.stem.porter import PorterStemmer \n",
    "porter = PorterStemmer() #A stemming algorithm that removes suffixes from words.\n",
    "stemmed = [porter.stem(word) for word in filtered_words] #porter.stem(word): Applies stemming to each word.\n",
    "print(stemmed)"
   ]
  },
  {
   "cell_type": "code",
   "execution_count": null,
   "id": "52acc7da",
   "metadata": {},
   "outputs": [],
   "source": [
    "from nltk import pos_tag #Tags each word with its grammatical role\n",
    "pos = pos_tag(filtered_words) \n",
    "print(pos) "
   ]
  },
  {
   "cell_type": "code",
   "execution_count": null,
   "id": "5bda29cf",
   "metadata": {},
   "outputs": [],
   "source": [
    "# 5. Calculate TF-IDF\n",
    "from sklearn.feature_extraction.text import TfidfVectorizer\n",
    "corpus = [text]\n",
    "tfidf_vectorizer = TfidfVectorizer(stop_words='english') #Converts text into a matrix of TF-IDF features.\n",
    "tfidf_matrix = tfidf_vectorizer.fit_transform(corpus) #Learns vocabulary from corpus"
   ]
  },
  {
   "cell_type": "code",
   "execution_count": null,
   "id": "e7e0ffa9",
   "metadata": {},
   "outputs": [],
   "source": [
    "# Get feature names (terms)\n",
    "terms = tfidf_vectorizer.get_feature_names_out()\n",
    "print(\"TF-IDF Terms:\", terms)"
   ]
  },
  {
   "cell_type": "code",
   "execution_count": null,
   "id": "31772291",
   "metadata": {},
   "outputs": [],
   "source": [
    "# Display TF-IDF values for the document\n",
    "tfidf_values = tfidf_matrix.toarray()\n",
    "print(\"TF-IDF Values:\", tfidf_values)"
   ]
  }
 ],
 "metadata": {
  "kernelspec": {
   "display_name": "Python 3",
   "language": "python",
   "name": "python3"
  },
  "language_info": {
   "codemirror_mode": {
    "name": "ipython",
    "version": 3
   },
   "file_extension": ".py",
   "mimetype": "text/x-python",
   "name": "python",
   "nbconvert_exporter": "python",
   "pygments_lexer": "ipython3",
   "version": "3.13.1"
  }
 },
 "nbformat": 4,
 "nbformat_minor": 5
}
