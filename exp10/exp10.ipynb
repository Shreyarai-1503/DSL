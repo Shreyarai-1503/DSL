{
  "cells": [
    {
      "cell_type": "markdown",
      "metadata": {},
      "source": [
        "Exp10.  Data Visualization III \n",
        "Download the Iris flower dataset or any other dataset into a DataFrame. (e.g., https://archive.ics.uci.edu/ml/datasets/Iris ). Scan the dataset and give the inference as: \n",
        "1. List down the features and their types (e.g., numeric, nominal) available in the dataset. \n",
        "2. Create a histogram for each feature in the dataset to illustrate the feature distributions.  \n",
        "3. Create a box plot for each feature in the dataset.  \n",
        "4. Compare distributions and identify outliers. "
      ]
    },
    {
      "cell_type": "code",
      "execution_count": null,
      "metadata": {
        "id": "YyxtEr7ZC1Lf"
      },
      "outputs": [],
      "source": [
        "import pandas as pd\n",
        "import seaborn as sns"
      ]
    },
    {
      "cell_type": "code",
      "execution_count": null,
      "metadata": {
        "colab": {
          "base_uri": "https://localhost:8080/",
          "height": 423
        },
        "id": "gOwYMmt5C1Lm",
        "outputId": "48407967-1af5-4440-9395-ead259d6af5e"
      },
      "outputs": [],
      "source": [
        "data = pd.read_csv(r'D:\\TE\\DSBDALab\\Iris.csv')\n",
        "data.drop(columns=['Id'], inplace=True)\n",
        "data"
      ]
    },
    {
      "cell_type": "code",
      "execution_count": null,
      "metadata": {
        "colab": {
          "base_uri": "https://localhost:8080/",
          "height": 300
        },
        "id": "XRHK8lUrC1Lp",
        "outputId": "3bc92d13-3b26-49a7-8677-7de2df5d07d5"
      },
      "outputs": [],
      "source": [
        "data.describe()"
      ]
    },
    {
      "cell_type": "code",
      "execution_count": null,
      "metadata": {
        "colab": {
          "base_uri": "https://localhost:8080/",
          "height": 175
        },
        "id": "WuloOcMhC1Lq",
        "outputId": "a6ce67fa-c4ce-460b-a347-560f633b14bb"
      },
      "outputs": [],
      "source": [
        "data.describe(include = 'object')"
      ]
    },
    {
      "cell_type": "code",
      "execution_count": null,
      "metadata": {
        "colab": {
          "base_uri": "https://localhost:8080/"
        },
        "id": "eHzZYIDCC1Lr",
        "outputId": "35e60571-d20c-40ca-ff4a-202641d89252"
      },
      "outputs": [],
      "source": [
        "data.isnull().sum()"
      ]
    },
    {
      "cell_type": "code",
      "execution_count": null,
      "metadata": {
        "colab": {
          "base_uri": "https://localhost:8080/"
        },
        "id": "Lg1GeSGJC1Ls",
        "outputId": "58f9bd02-c0b4-4293-8151-83629481881a"
      },
      "outputs": [],
      "source": [
        "print(\"The features in the dataset are as follows : \")\n",
        "print(\"1. Sepal length : \", data['SepalLengthCm'].dtype)\n",
        "print(\"2. Sepal width : \", data['SepalWidthCm'].dtype)\n",
        "print(\"3. Petal length : \", data['PetalLengthCm'].dtype)\n",
        "print(\"4. Petal width : \", data['PetalWidthCm'].dtype)\n",
        "print(\"5. Species : \", data['Species'].dtype)"
      ]
    },
    {
      "cell_type": "code",
      "execution_count": null,
      "metadata": {
        "colab": {
          "base_uri": "https://localhost:8080/",
          "height": 297
        },
        "id": "jwXRzz1vC1Lt",
        "outputId": "740ae048-25ca-4070-cab3-3d2e5fab4070"
      },
      "outputs": [],
      "source": [
        "sns.histplot(x = data['SepalLengthCm'], kde=True)"
      ]
    },
    {
      "cell_type": "code",
      "execution_count": null,
      "metadata": {
        "colab": {
          "base_uri": "https://localhost:8080/",
          "height": 297
        },
        "id": "NX_t3fx4C1Lu",
        "outputId": "29f6dcb0-b416-41d1-b4ab-a57a3cb31678"
      },
      "outputs": [],
      "source": [
        "sns.histplot(x = data['SepalWidthCm'], kde=True)"
      ]
    },
    {
      "cell_type": "code",
      "execution_count": null,
      "metadata": {
        "colab": {
          "base_uri": "https://localhost:8080/",
          "height": 297
        },
        "id": "TyPTV-KnC1Lw",
        "outputId": "547e78b7-2877-42cc-d8aa-28c6f5abdb75"
      },
      "outputs": [],
      "source": [
        "sns.histplot(x = data['PetalLengthCm'], kde=True)"
      ]
    },
    {
      "cell_type": "code",
      "execution_count": null,
      "metadata": {
        "colab": {
          "base_uri": "https://localhost:8080/",
          "height": 297
        },
        "id": "l009RfFwC1Lx",
        "outputId": "60dae1ff-3982-4f89-a28c-4ef6f1c245da"
      },
      "outputs": [],
      "source": [
        "sns.histplot(x = data['PetalWidthCm'], kde=True)"
      ]
    },
    {
      "cell_type": "code",
      "execution_count": null,
      "metadata": {
        "colab": {
          "base_uri": "https://localhost:8080/",
          "height": 352
        },
        "id": "_vj1rRj9C1Ly",
        "outputId": "644d8394-132b-478f-eaa8-2ac6defd41de"
      },
      "outputs": [],
      "source": [
        "sns.boxplot(data['SepalLengthCm'])"
      ]
    },
    {
      "cell_type": "code",
      "execution_count": null,
      "metadata": {
        "colab": {
          "base_uri": "https://localhost:8080/",
          "height": 352
        },
        "id": "8IqnXBK4C1Ly",
        "outputId": "740dd78e-690c-4975-ac06-d96e7f5adc76"
      },
      "outputs": [],
      "source": [
        "sns.boxplot(data['SepalWidthCm'])"
      ]
    },
    {
      "cell_type": "code",
      "execution_count": null,
      "metadata": {
        "colab": {
          "base_uri": "https://localhost:8080/",
          "height": 352
        },
        "id": "wHUFFmpfC1Lz",
        "outputId": "5b483179-c35d-4b5b-f587-410f76b4270b"
      },
      "outputs": [],
      "source": [
        "sns.boxplot(data['PetalLengthCm'])"
      ]
    },
    {
      "cell_type": "code",
      "execution_count": null,
      "metadata": {
        "colab": {
          "base_uri": "https://localhost:8080/",
          "height": 352
        },
        "id": "13ElEMCNC1Lz",
        "outputId": "a61254a5-f6f6-418a-a764-c64ffb78c8eb"
      },
      "outputs": [],
      "source": [
        "sns.boxplot(data['PetalWidthCm'])"
      ]
    },
    {
      "cell_type": "code",
      "execution_count": null,
      "metadata": {
        "colab": {
          "base_uri": "https://localhost:8080/",
          "height": 297
        },
        "id": "8vY1vBajC1L1",
        "outputId": "b4cd7075-1505-4f13-effa-db1c9328af7a"
      },
      "outputs": [],
      "source": [
        "sns.boxplot(x='SepalLengthCm',y='Species',data=data)"
      ]
    },
    {
      "cell_type": "code",
      "execution_count": null,
      "metadata": {
        "colab": {
          "base_uri": "https://localhost:8080/",
          "height": 297
        },
        "id": "gYq__jkfC1L1",
        "outputId": "f77f9f25-a947-46a7-a500-c91684f927d3"
      },
      "outputs": [],
      "source": [
        "sns.boxplot(x='PetalLengthCm',y='Species',data=data)"
      ]
    }
  ],
  "metadata": {
    "colab": {
      "name": "Code.ipynb",
      "provenance": []
    },
    "kernelspec": {
      "display_name": "Python 3",
      "language": "python",
      "name": "python3"
    },
    "language_info": {
      "codemirror_mode": {
        "name": "ipython",
        "version": 3
      },
      "file_extension": ".py",
      "mimetype": "text/x-python",
      "name": "python",
      "nbconvert_exporter": "python",
      "pygments_lexer": "ipython3",
      "version": "3.13.1"
    }
  },
  "nbformat": 4,
  "nbformat_minor": 0
}
