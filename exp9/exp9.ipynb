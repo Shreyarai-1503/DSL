{
 "cells": [
  {
   "cell_type": "markdown",
   "id": "6da9c613",
   "metadata": {},
   "source": [
    "Exp9.  Data Visualization II \n",
    "1. Use the inbuilt dataset 'titanic' as used in the above problem. Plot a box plot for distribution of age with respect to each gender along with the information about whether they survived or not. (Column names : 'sex' and 'age') \n",
    "2. Write observations on the inference from the above statistics. "
   ]
  },
  {
   "cell_type": "code",
   "execution_count": null,
   "id": "ddf89738",
   "metadata": {},
   "outputs": [],
   "source": [
    "import seaborn as sns"
   ]
  },
  {
   "cell_type": "code",
   "execution_count": null,
   "id": "74a2a930",
   "metadata": {},
   "outputs": [],
   "source": [
    "data = sns.load_dataset('titanic')\n",
    "data"
   ]
  },
  {
   "cell_type": "code",
   "execution_count": null,
   "id": "27be52b8",
   "metadata": {},
   "outputs": [],
   "source": [
    "sns.boxplot(x='sex', y='age', data=data)"
   ]
  },
  {
   "cell_type": "code",
   "execution_count": null,
   "id": "d589412b",
   "metadata": {},
   "outputs": [],
   "source": [
    "sns.boxplot(x='sex', y='age', data=data, hue='survived')"
   ]
  }
 ],
 "metadata": {
  "kernelspec": {
   "display_name": "Python 3",
   "language": "python",
   "name": "python3"
  },
  "language_info": {
   "codemirror_mode": {
    "name": "ipython",
    "version": 3
   },
   "file_extension": ".py",
   "mimetype": "text/x-python",
   "name": "python",
   "nbconvert_exporter": "python",
   "pygments_lexer": "ipython3",
   "version": "3.13.1"
  }
 },
 "nbformat": 4,
 "nbformat_minor": 5
}
