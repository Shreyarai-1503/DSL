{
 "cells": [
  {
   "cell_type": "markdown",
   "metadata": {},
   "source": [
    "Exp3.  Descriptive Statistics - Measures of Central Tendency and variability \n",
    "Perform the following operations on any open source dataset (e.g., data.csv) \n",
    "1. Provide summary statistics (mean, median, minimum, maximum, standard deviation) for a dataset (age, income etc.) with numeric variables grouped by one of the qualitative (categorical) variable. For example, if your categorical variable is age groups and quantitative variable is income, then provide summary statistics of income grouped by the age groups. Create a list that contains a numeric value for each response to the categorical variable.  \n",
    "2. Write a Python program to display some basic statistical details like percentile, mean, standard deviation etc. of the species of ‘Iris-setosa’, ‘Iris-versicolor’ and ‘Iris-virginica’ of iris.csv dataset. \n",
    "Provide the codes with outputs and explain everything that you do in this step. "
   ]
  },
  {
   "cell_type": "code",
   "execution_count": null,
   "metadata": {},
   "outputs": [],
   "source": [
    "import numpy\n",
    "\n",
    "age = [99,86,87,88,111,86,103,87,94,78,77,85,86]\n",
    "\n",
    "print(\"Mean: \",numpy.mean(age))\n",
    "print(\"Median: \",numpy.median(age))\n",
    "print(\"Minimum: \",numpy.min(age))\n",
    "print(\"Maximum: \",numpy.max(age))\n",
    "print(\"Standard Deviation: \",numpy.std(age))\n"
   ]
  },
  {
   "cell_type": "code",
   "execution_count": null,
   "metadata": {},
   "outputs": [],
   "source": [
    "from scipy import stats\n",
    "\n",
    "age = [99,86,87,88,111,86,103,87,94,78,77,85,86]\n",
    "\n",
    "x = stats.mode(age)\n"
   ]
  },
  {
   "cell_type": "code",
   "execution_count": null,
   "metadata": {},
   "outputs": [],
   "source": [
    "n_num = [1, 2, 3, 4, 5]\n",
    "n = len(n_num)\n",
    "\n",
    "get_sum = sum(n_num)\n",
    "mean = get_sum/n\n",
    "\n",
    "print(\"Mean / Average is : \" + str(mean))"
   ]
  },
  {
   "cell_type": "code",
   "execution_count": null,
   "metadata": {},
   "outputs": [],
   "source": [
    "n_num = [1, 2, 3, 4, 5]\n",
    "n = len(n_num)\n",
    "n_num.sort()\n",
    "\n",
    "if n % 2 == 0:\n",
    "    median1 = n_num[n//2]\n",
    "    median2 = n_num[n//2-1]\n",
    "    median = (median1 + median2)/2\n",
    "else:\n",
    "    median = n_num[n//2]\n",
    "print(\"Median is : \" + str(median))"
   ]
  },
  {
   "cell_type": "code",
   "execution_count": null,
   "metadata": {},
   "outputs": [],
   "source": [
    "from collections import Counter\n",
    "\n",
    "n_num = [1, 2, 3, 4, 5, 5]\n",
    "n = len(n_num)\n",
    "\n",
    "data = Counter(n_num)\n",
    "\n",
    "get_mode = dict(data)\n",
    "mode = [k for k, v in get_mode.items() if v == max(list(data.values()))]\n",
    "\n",
    "if len(mode) == n:\n",
    "    get_mode = \"No mode found\"\n",
    "else:\n",
    "    get_mode = \"Mode is/are : \" + ', '.join(map(str,mode))\n",
    "print(get_mode)"
   ]
  },
  {
   "cell_type": "code",
   "execution_count": null,
   "metadata": {
    "scrolled": false
   },
   "outputs": [],
   "source": [
    "# Imp------------------\n",
    "import pandas as pd\n",
    "\n",
    "data = {\n",
    "    'Gender': ['Male', 'Female', 'Female', 'Male', 'Female', 'Male', 'Male', 'Female'],\n",
    "    'Department': ['CS', 'Math', 'CS', 'Math', 'Bio', 'CS', 'Bio', 'Math'],\n",
    "    'GPA': [3.5, 3.8, 3.2, 2.9, 3.7, 3.0, 2.8, 3.9],\n",
    "    'Attendance (%)': [88, 95, 82, 76, 93, 80, 70, 98]\n",
    "}\n",
    "\n",
    "df = pd.DataFrame(data)\n",
    "df"
   ]
  },
  {
   "cell_type": "code",
   "execution_count": null,
   "metadata": {},
   "outputs": [],
   "source": [
    "dept_stats = df.groupby('Department').agg({\n",
    "    'GPA': ['mean', 'min', 'max'],\n",
    "    'Attendance (%)': ['mean']\n",
    "}).reset_index()\n",
    "\n",
    "dept_stats"
   ]
  },
  {
   "cell_type": "markdown",
   "metadata": {},
   "source": [
    "2. Write a Python program to display some basic statistical details like percentile, mean, standard deviation etc. of the species of ‘Iris-setosa’, ‘Iris-versicolor’ and ‘Iris-virginica’ of iris.csv dataset.Provide the codes with outputsandexplaineverything thatyou doin this step."
   ]
  },
  {
   "cell_type": "code",
   "execution_count": null,
   "metadata": {},
   "outputs": [],
   "source": [
    "import pandas as pd\n",
    "\n",
    "data = pd.read_csv(r\"D:\\TE\\DSBDALab\\Iris.csv\")\n",
    "\n",
    "print('Iris-setosa')\n",
    "setosa= data['Species'] == 'Iris-setosa'\n",
    "print(data[setosa].describe())\n",
    "\n",
    "print('\\nIris-versicolor')\n",
    "versicolor= data['Species'] == 'Iris-versicolor'\n",
    "print(data[versicolor].describe())\n",
    "\n",
    "print('\\nIris-virginica')\n",
    "virginica = data['Species'] == 'Iris-virginica'\n",
    "print (data[virginica].describe())"
   ]
  },
  {
   "cell_type": "code",
   "execution_count": null,
   "metadata": {},
   "outputs": [],
   "source": [
    "data.describe()"
   ]
  },
  {
   "cell_type": "code",
   "execution_count": null,
   "metadata": {},
   "outputs": [],
   "source": [
    "data.info()"
   ]
  },
  {
   "cell_type": "markdown",
   "metadata": {},
   "source": [
    "Method 2"
   ]
  },
  {
   "cell_type": "code",
   "execution_count": 1,
   "metadata": {},
   "outputs": [
    {
     "data": {
      "text/html": [
       "<div>\n",
       "<style scoped>\n",
       "    .dataframe tbody tr th:only-of-type {\n",
       "        vertical-align: middle;\n",
       "    }\n",
       "\n",
       "    .dataframe tbody tr th {\n",
       "        vertical-align: top;\n",
       "    }\n",
       "\n",
       "    .dataframe thead th {\n",
       "        text-align: right;\n",
       "    }\n",
       "</style>\n",
       "<table border=\"1\" class=\"dataframe\">\n",
       "  <thead>\n",
       "    <tr style=\"text-align: right;\">\n",
       "      <th></th>\n",
       "      <th>AgeGroup</th>\n",
       "      <th>Income</th>\n",
       "      <th>SpendingScore</th>\n",
       "      <th>Savings</th>\n",
       "    </tr>\n",
       "  </thead>\n",
       "  <tbody>\n",
       "    <tr>\n",
       "      <th>0</th>\n",
       "      <td>36-45</td>\n",
       "      <td>57384</td>\n",
       "      <td>63</td>\n",
       "      <td>11037</td>\n",
       "    </tr>\n",
       "    <tr>\n",
       "      <th>1</th>\n",
       "      <td>46-60</td>\n",
       "      <td>51713</td>\n",
       "      <td>79</td>\n",
       "      <td>14426</td>\n",
       "    </tr>\n",
       "    <tr>\n",
       "      <th>2</th>\n",
       "      <td>18-25</td>\n",
       "      <td>48843</td>\n",
       "      <td>35</td>\n",
       "      <td>17524</td>\n",
       "    </tr>\n",
       "    <tr>\n",
       "      <th>3</th>\n",
       "      <td>36-45</td>\n",
       "      <td>46988</td>\n",
       "      <td>62</td>\n",
       "      <td>19328</td>\n",
       "    </tr>\n",
       "    <tr>\n",
       "      <th>4</th>\n",
       "      <td>36-45</td>\n",
       "      <td>35214</td>\n",
       "      <td>63</td>\n",
       "      <td>8998</td>\n",
       "    </tr>\n",
       "    <tr>\n",
       "      <th>...</th>\n",
       "      <td>...</td>\n",
       "      <td>...</td>\n",
       "      <td>...</td>\n",
       "      <td>...</td>\n",
       "    </tr>\n",
       "    <tr>\n",
       "      <th>95</th>\n",
       "      <td>26-35</td>\n",
       "      <td>65499</td>\n",
       "      <td>69</td>\n",
       "      <td>14264</td>\n",
       "    </tr>\n",
       "    <tr>\n",
       "      <th>96</th>\n",
       "      <td>26-35</td>\n",
       "      <td>42167</td>\n",
       "      <td>29</td>\n",
       "      <td>10872</td>\n",
       "    </tr>\n",
       "    <tr>\n",
       "      <th>97</th>\n",
       "      <td>46-60</td>\n",
       "      <td>46779</td>\n",
       "      <td>62</td>\n",
       "      <td>13393</td>\n",
       "    </tr>\n",
       "    <tr>\n",
       "      <th>98</th>\n",
       "      <td>26-35</td>\n",
       "      <td>58135</td>\n",
       "      <td>50</td>\n",
       "      <td>17064</td>\n",
       "    </tr>\n",
       "    <tr>\n",
       "      <th>99</th>\n",
       "      <td>18-25</td>\n",
       "      <td>37691</td>\n",
       "      <td>72</td>\n",
       "      <td>12181</td>\n",
       "    </tr>\n",
       "  </tbody>\n",
       "</table>\n",
       "<p>100 rows × 4 columns</p>\n",
       "</div>"
      ],
      "text/plain": [
       "   AgeGroup  Income  SpendingScore  Savings\n",
       "0     36-45   57384             63    11037\n",
       "1     46-60   51713             79    14426\n",
       "2     18-25   48843             35    17524\n",
       "3     36-45   46988             62    19328\n",
       "4     36-45   35214             63     8998\n",
       "..      ...     ...            ...      ...\n",
       "95    26-35   65499             69    14264\n",
       "96    26-35   42167             29    10872\n",
       "97    46-60   46779             62    13393\n",
       "98    26-35   58135             50    17064\n",
       "99    18-25   37691             72    12181\n",
       "\n",
       "[100 rows x 4 columns]"
      ]
     },
     "execution_count": 1,
     "metadata": {},
     "output_type": "execute_result"
    }
   ],
   "source": [
    "import pandas as pd\n",
    "import numpy as np\n",
    "\n",
    "# Set random seed for reproducibility\n",
    "np.random.seed(42)\n",
    "\n",
    "# Generate synthetic data\n",
    "n = 100\n",
    "age_groups = np.random.choice(['18-25', '26-35', '36-45', '46-60'], size=n)\n",
    "income = np.random.normal(loc=50000, scale=10000, size=n).astype(int)\n",
    "spending_score = np.random.normal(loc=60, scale=15, size=n).astype(int)\n",
    "savings = np.random.normal(loc=15000, scale=5000, size=n).astype(int)\n",
    "\n",
    "# Create DataFrame\n",
    "df = pd.DataFrame({\n",
    "    'AgeGroup': age_groups,\n",
    "    'Income': income,\n",
    "    'SpendingScore': spending_score,\n",
    "    'Savings': savings\n",
    "})\n",
    "\n",
    "df"
   ]
  },
  {
   "cell_type": "code",
   "execution_count": 2,
   "metadata": {},
   "outputs": [
    {
     "name": "stdout",
     "output_type": "stream",
     "text": [
      "  AgeGroup   Income_Mean  Income_Median  Income_Min  Income_Max    Income_Std  \\\n",
      "0    18-25  51134.550000        49722.5       37691       65380   7260.369974   \n",
      "1    26-35  50015.346154        49506.5       23802       74632  12249.310367   \n",
      "2    36-45  50146.291667        50510.5       30124       71904   9123.121422   \n",
      "3    46-60  48105.400000        48274.0       34493       68861   8160.289382   \n",
      "\n",
      "   Spendingscore_Mean  Spendingscore_Median  Spendingscore_Min  \\\n",
      "0           58.700000                  59.0                 35   \n",
      "1           64.115385                  65.5                 29   \n",
      "2           63.416667                  63.0                 39   \n",
      "3           58.433333                  60.5                 31   \n",
      "\n",
      "   Spendingscore_Max  Spendingscore_Std  Savings_Mean  Savings_Median  \\\n",
      "0                 81          14.818552  15502.950000         15942.5   \n",
      "1                117          18.569495  14653.923077         15078.0   \n",
      "2                100          13.223552  15492.583333         15525.5   \n",
      "3                 87          12.907318  15467.033333         14682.0   \n",
      "\n",
      "   Savings_Min  Savings_Max  Savings_Std  \n",
      "0         7820        22206  3878.449588  \n",
      "1        -1206        23162  5277.833479  \n",
      "2         8695        25610  4666.063902  \n",
      "3         5239        25665  4882.891275  \n"
     ]
    }
   ],
   "source": [
    "# Group by AgeGroup and compute stats for each numeric variable\n",
    "summary = df.groupby('AgeGroup').agg({\n",
    "    'Income': ['mean', 'median', 'min', 'max', 'std'],\n",
    "    'SpendingScore': ['mean', 'median', 'min', 'max', 'std'],\n",
    "    'Savings': ['mean', 'median', 'min', 'max', 'std']\n",
    "})\n",
    "\n",
    "# Format columns\n",
    "summary.columns = ['_'.join(col).title() for col in summary.columns]\n",
    "summary.reset_index(inplace=True)\n",
    "\n",
    "print(summary)\n"
   ]
  }
 ],
 "metadata": {
  "kernelspec": {
   "display_name": "Python 3",
   "language": "python",
   "name": "python3"
  },
  "language_info": {
   "codemirror_mode": {
    "name": "ipython",
    "version": 3
   },
   "file_extension": ".py",
   "mimetype": "text/x-python",
   "name": "python",
   "nbconvert_exporter": "python",
   "pygments_lexer": "ipython3",
   "version": "3.13.1"
  }
 },
 "nbformat": 4,
 "nbformat_minor": 2
}
