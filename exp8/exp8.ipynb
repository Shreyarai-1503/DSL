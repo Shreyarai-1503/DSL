{
 "cells": [
  {
   "cell_type": "markdown",
   "metadata": {},
   "source": [
    "Exp8.  Data Visualization I \n",
    "1. Use the inbuilt dataset 'titanic'. The dataset contains 891 rows and contains information about the passengers who boarded the unfortunate Titanic ship. Use the Seaborn library to see if we can find any patterns in the data.  \n",
    "2. Write a code to check how the price of the ticket (column name: 'fare') for each passenger is distributed by plotting a histogram. "
   ]
  },
  {
   "cell_type": "code",
   "execution_count": null,
   "metadata": {
    "colab": {
     "base_uri": "https://localhost:8080/",
     "height": 206
    },
    "id": "80pU8EBhDwbn",
    "outputId": "e4740b5c-1904-4996-bec7-da1b5aedb139"
   },
   "outputs": [],
   "source": [
    "import matplotlib.pyplot as plt\n",
    "import seaborn as sns\n",
    "\n",
    "dataset = sns.load_dataset('titanic')\n",
    "\n",
    "dataset.head()"
   ]
  },
  {
   "cell_type": "code",
   "execution_count": null,
   "metadata": {
    "colab": {
     "base_uri": "https://localhost:8080/",
     "height": 351
    },
    "id": "1dfKhxYXDwbp",
    "outputId": "145524f3-f4a4-457b-fe94-aff655ea1362"
   },
   "outputs": [],
   "source": [
    "sns.distplot(dataset['fare'])"
   ]
  },
  {
   "cell_type": "code",
   "execution_count": null,
   "metadata": {
    "colab": {
     "base_uri": "https://localhost:8080/",
     "height": 353
    },
    "id": "Wt5tk6byDwbq",
    "outputId": "966dd656-c20a-455f-e8b4-27dd72a2f328"
   },
   "outputs": [],
   "source": [
    "sns.distplot(dataset['fare'], kde=False) # kde=False will not show the kernel density estimate"
   ]
  },
  {
   "cell_type": "code",
   "execution_count": null,
   "metadata": {
    "colab": {
     "base_uri": "https://localhost:8080/",
     "height": 458
    },
    "id": "u9WdhRvdDwbr",
    "outputId": "1dc2c98b-b08b-4015-aa98-13120aa2bbfd"
   },
   "outputs": [],
   "source": [
    "sns.jointplot(x='age', y='fare', data=dataset) # jointplot will show the distribution of both variables in a 2D plot"
   ]
  },
  {
   "cell_type": "code",
   "execution_count": null,
   "metadata": {
    "colab": {
     "base_uri": "https://localhost:8080/",
     "height": 300
    },
    "id": "ZIPRaDd3Dwbs",
    "outputId": "66d67353-3e89-47f8-b2ac-cbf3340e8d17"
   },
   "outputs": [],
   "source": [
    "sns.rugplot(dataset['fare']) # rugplot will show the distribution of the variable on the x-axis with small vertical lines"
   ]
  },
  {
   "cell_type": "code",
   "execution_count": null,
   "metadata": {
    "colab": {
     "base_uri": "https://localhost:8080/",
     "height": 296
    },
    "id": "LxhqzzVADwbs",
    "outputId": "e0fa0667-9441-4ab4-9f41-6849a4228b31"
   },
   "outputs": [],
   "source": [
    "sns.barplot(x='sex', y='age', data=dataset) # barplot will show the mean of the y variable for each category of the x variable"
   ]
  },
  {
   "cell_type": "code",
   "execution_count": null,
   "metadata": {
    "colab": {
     "base_uri": "https://localhost:8080/",
     "height": 298
    },
    "id": "Uc40-uUMDwbt",
    "outputId": "63c3ef67-fa76-4c6c-a19c-2d431359fced"
   },
   "outputs": [],
   "source": [
    "sns.countplot(x='sex', data=dataset) # countplot will show the count of each category of the variable"
   ]
  },
  {
   "cell_type": "code",
   "execution_count": null,
   "metadata": {
    "colab": {
     "base_uri": "https://localhost:8080/",
     "height": 296
    },
    "id": "_5fimlVdDwbu",
    "outputId": "a07dbf3a-c64b-4e8a-cb8f-bebcf6e11480"
   },
   "outputs": [],
   "source": [
    "sns.boxplot(x='sex', y='age', data=dataset) # boxplot will show the distribution of the y variable for each category of the x variable"
   ]
  },
  {
   "cell_type": "code",
   "execution_count": null,
   "metadata": {
    "colab": {
     "base_uri": "https://localhost:8080/",
     "height": 296
    },
    "id": "mMsIihmkDwbv",
    "outputId": "fb1f59a3-a467-436c-a40e-04315003ba74"
   },
   "outputs": [],
   "source": [
    "sns.boxplot(x='sex', y='age', data=dataset, hue=\"survived\") # hue will show the distribution of the y variable for each category of the x variable, separated by the hue variable"
   ]
  },
  {
   "cell_type": "code",
   "execution_count": null,
   "metadata": {
    "colab": {
     "base_uri": "https://localhost:8080/",
     "height": 296
    },
    "id": "xy9dPKxbDwbw",
    "outputId": "1e619ec3-11ce-4514-aeea-0f2a3a4ad162"
   },
   "outputs": [],
   "source": [
    "sns.violinplot(x='sex', y='age', data=dataset) # violinplot will show the distribution of the y variable for each category of the x variable, with a kernel density estimate"
   ]
  },
  {
   "cell_type": "code",
   "execution_count": null,
   "metadata": {
    "colab": {
     "base_uri": "https://localhost:8080/",
     "height": 296
    },
    "id": "_9ctcVbFDwby",
    "outputId": "91727b43-e2ec-4783-8c79-09f9c56903a0"
   },
   "outputs": [],
   "source": [
    "sns.stripplot(x='sex', y='age', data=dataset) # stripplot will show the distribution of the y variable for each category of the x variable, with small dots"
   ]
  },
  {
   "cell_type": "code",
   "execution_count": null,
   "metadata": {
    "colab": {
     "base_uri": "https://localhost:8080/",
     "height": 351
    },
    "id": "Xy04fP7ODwby",
    "outputId": "b3f2ce2c-4edf-4035-9584-28f57c61c6e7"
   },
   "outputs": [],
   "source": [
    "sns.swarmplot(x='sex', y='age', data=dataset) # swarmplot will show the distribution of the y variable for each category of the x variable, with small dots, but will not overlap the dots"
   ]
  },
  {
   "cell_type": "code",
   "execution_count": null,
   "metadata": {
    "colab": {
     "base_uri": "https://localhost:8080/",
     "height": 281
    },
    "id": "d7r7vOGODwbz",
    "outputId": "4e7ce265-0cbc-4f10-9620-893a9c8933d8"
   },
   "outputs": [],
   "source": [
    "#Expt. No. 8 Part-2\n",
    "# histogram of fare\n",
    "titanic_hist = dataset.fare.plot.hist(bins = 40, color = 'grey')\n",
    "plt.xlabel('Fare (pounds, 1912 prices)')\n",
    "\n",
    "plt.show(titanic_hist)"
   ]
  },
  {
   "cell_type": "code",
   "execution_count": null,
   "metadata": {
    "colab": {
     "base_uri": "https://localhost:8080/",
     "height": 351
    },
    "id": "OahrVbuWDwb0",
    "outputId": "f179b30a-52e5-43d2-a23a-4e438eb61286"
   },
   "outputs": [],
   "source": [
    "sns.distplot(dataset['fare'])"
   ]
  }
 ],
 "metadata": {
  "colab": {
   "name": "Expt.No.8.ipynb",
   "provenance": []
  },
  "kernelspec": {
   "display_name": "Python 3",
   "language": "python",
   "name": "python3"
  },
  "language_info": {
   "codemirror_mode": {
    "name": "ipython",
    "version": 3
   },
   "file_extension": ".py",
   "mimetype": "text/x-python",
   "name": "python",
   "nbconvert_exporter": "python",
   "pygments_lexer": "ipython3",
   "version": "3.13.1"
  }
 },
 "nbformat": 4,
 "nbformat_minor": 1
}
